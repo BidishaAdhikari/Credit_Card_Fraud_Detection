{
  "nbformat": 4,
  "nbformat_minor": 0,
  "metadata": {
    "colab": {
      "name": "Without_cross_val.ipynb",
      "provenance": [],
      "collapsed_sections": [],
      "mount_file_id": "1q_LEbDZnIbgumDNl4n57z1GJm0FeVOgb",
      "authorship_tag": "ABX9TyPzVzWJEIBEhj83JConoYHK"
    },
    "kernelspec": {
      "name": "python3",
      "display_name": "Python 3"
    },
    "language_info": {
      "name": "python"
    }
  },
  "cells": [
    {
      "cell_type": "markdown",
      "source": [
        "This notebook contains models without applying cross validation"
      ],
      "metadata": {
        "id": "AFehuOHGH1b8"
      }
    },
    {
      "cell_type": "code",
      "execution_count": null,
      "metadata": {
        "id": "6p9sQdj2J-sV"
      },
      "outputs": [],
      "source": [
        "import pandas as pd\n",
        "import seaborn as sns\n",
        "import numpy as np\n",
        "import matplotlib.pyplot as plt"
      ]
    },
    {
      "cell_type": "code",
      "source": [
        "df=pd.read_csv('/content/drive/MyDrive/Datasets/creditcard.csv')\n",
        "df=df.drop(columns=['Time','Amount'])\n",
        "df.head()"
      ],
      "metadata": {
        "colab": {
          "base_uri": "https://localhost:8080/",
          "height": 299
        },
        "id": "hQ5wC6PrKGRi",
        "outputId": "1c916fda-5559-4f5b-a602-3412870fc57a"
      },
      "execution_count": null,
      "outputs": [
        {
          "output_type": "execute_result",
          "data": {
            "text/plain": [
              "         V1        V2        V3        V4        V5        V6        V7  \\\n",
              "0 -1.359807 -0.072781  2.536347  1.378155 -0.338321  0.462388  0.239599   \n",
              "1  1.191857  0.266151  0.166480  0.448154  0.060018 -0.082361 -0.078803   \n",
              "2 -1.358354 -1.340163  1.773209  0.379780 -0.503198  1.800499  0.791461   \n",
              "3 -0.966272 -0.185226  1.792993 -0.863291 -0.010309  1.247203  0.237609   \n",
              "4 -1.158233  0.877737  1.548718  0.403034 -0.407193  0.095921  0.592941   \n",
              "\n",
              "         V8        V9       V10  ...       V20       V21       V22       V23  \\\n",
              "0  0.098698  0.363787  0.090794  ...  0.251412 -0.018307  0.277838 -0.110474   \n",
              "1  0.085102 -0.255425 -0.166974  ... -0.069083 -0.225775 -0.638672  0.101288   \n",
              "2  0.247676 -1.514654  0.207643  ...  0.524980  0.247998  0.771679  0.909412   \n",
              "3  0.377436 -1.387024 -0.054952  ... -0.208038 -0.108300  0.005274 -0.190321   \n",
              "4 -0.270533  0.817739  0.753074  ...  0.408542 -0.009431  0.798278 -0.137458   \n",
              "\n",
              "        V24       V25       V26       V27       V28  Class  \n",
              "0  0.066928  0.128539 -0.189115  0.133558 -0.021053      0  \n",
              "1 -0.339846  0.167170  0.125895 -0.008983  0.014724      0  \n",
              "2 -0.689281 -0.327642 -0.139097 -0.055353 -0.059752      0  \n",
              "3 -1.175575  0.647376 -0.221929  0.062723  0.061458      0  \n",
              "4  0.141267 -0.206010  0.502292  0.219422  0.215153      0  \n",
              "\n",
              "[5 rows x 29 columns]"
            ],
            "text/html": [
              "\n",
              "  <div id=\"df-722464a8-eb4b-4f6b-b9c9-806ea202ae92\">\n",
              "    <div class=\"colab-df-container\">\n",
              "      <div>\n",
              "<style scoped>\n",
              "    .dataframe tbody tr th:only-of-type {\n",
              "        vertical-align: middle;\n",
              "    }\n",
              "\n",
              "    .dataframe tbody tr th {\n",
              "        vertical-align: top;\n",
              "    }\n",
              "\n",
              "    .dataframe thead th {\n",
              "        text-align: right;\n",
              "    }\n",
              "</style>\n",
              "<table border=\"1\" class=\"dataframe\">\n",
              "  <thead>\n",
              "    <tr style=\"text-align: right;\">\n",
              "      <th></th>\n",
              "      <th>V1</th>\n",
              "      <th>V2</th>\n",
              "      <th>V3</th>\n",
              "      <th>V4</th>\n",
              "      <th>V5</th>\n",
              "      <th>V6</th>\n",
              "      <th>V7</th>\n",
              "      <th>V8</th>\n",
              "      <th>V9</th>\n",
              "      <th>V10</th>\n",
              "      <th>...</th>\n",
              "      <th>V20</th>\n",
              "      <th>V21</th>\n",
              "      <th>V22</th>\n",
              "      <th>V23</th>\n",
              "      <th>V24</th>\n",
              "      <th>V25</th>\n",
              "      <th>V26</th>\n",
              "      <th>V27</th>\n",
              "      <th>V28</th>\n",
              "      <th>Class</th>\n",
              "    </tr>\n",
              "  </thead>\n",
              "  <tbody>\n",
              "    <tr>\n",
              "      <th>0</th>\n",
              "      <td>-1.359807</td>\n",
              "      <td>-0.072781</td>\n",
              "      <td>2.536347</td>\n",
              "      <td>1.378155</td>\n",
              "      <td>-0.338321</td>\n",
              "      <td>0.462388</td>\n",
              "      <td>0.239599</td>\n",
              "      <td>0.098698</td>\n",
              "      <td>0.363787</td>\n",
              "      <td>0.090794</td>\n",
              "      <td>...</td>\n",
              "      <td>0.251412</td>\n",
              "      <td>-0.018307</td>\n",
              "      <td>0.277838</td>\n",
              "      <td>-0.110474</td>\n",
              "      <td>0.066928</td>\n",
              "      <td>0.128539</td>\n",
              "      <td>-0.189115</td>\n",
              "      <td>0.133558</td>\n",
              "      <td>-0.021053</td>\n",
              "      <td>0</td>\n",
              "    </tr>\n",
              "    <tr>\n",
              "      <th>1</th>\n",
              "      <td>1.191857</td>\n",
              "      <td>0.266151</td>\n",
              "      <td>0.166480</td>\n",
              "      <td>0.448154</td>\n",
              "      <td>0.060018</td>\n",
              "      <td>-0.082361</td>\n",
              "      <td>-0.078803</td>\n",
              "      <td>0.085102</td>\n",
              "      <td>-0.255425</td>\n",
              "      <td>-0.166974</td>\n",
              "      <td>...</td>\n",
              "      <td>-0.069083</td>\n",
              "      <td>-0.225775</td>\n",
              "      <td>-0.638672</td>\n",
              "      <td>0.101288</td>\n",
              "      <td>-0.339846</td>\n",
              "      <td>0.167170</td>\n",
              "      <td>0.125895</td>\n",
              "      <td>-0.008983</td>\n",
              "      <td>0.014724</td>\n",
              "      <td>0</td>\n",
              "    </tr>\n",
              "    <tr>\n",
              "      <th>2</th>\n",
              "      <td>-1.358354</td>\n",
              "      <td>-1.340163</td>\n",
              "      <td>1.773209</td>\n",
              "      <td>0.379780</td>\n",
              "      <td>-0.503198</td>\n",
              "      <td>1.800499</td>\n",
              "      <td>0.791461</td>\n",
              "      <td>0.247676</td>\n",
              "      <td>-1.514654</td>\n",
              "      <td>0.207643</td>\n",
              "      <td>...</td>\n",
              "      <td>0.524980</td>\n",
              "      <td>0.247998</td>\n",
              "      <td>0.771679</td>\n",
              "      <td>0.909412</td>\n",
              "      <td>-0.689281</td>\n",
              "      <td>-0.327642</td>\n",
              "      <td>-0.139097</td>\n",
              "      <td>-0.055353</td>\n",
              "      <td>-0.059752</td>\n",
              "      <td>0</td>\n",
              "    </tr>\n",
              "    <tr>\n",
              "      <th>3</th>\n",
              "      <td>-0.966272</td>\n",
              "      <td>-0.185226</td>\n",
              "      <td>1.792993</td>\n",
              "      <td>-0.863291</td>\n",
              "      <td>-0.010309</td>\n",
              "      <td>1.247203</td>\n",
              "      <td>0.237609</td>\n",
              "      <td>0.377436</td>\n",
              "      <td>-1.387024</td>\n",
              "      <td>-0.054952</td>\n",
              "      <td>...</td>\n",
              "      <td>-0.208038</td>\n",
              "      <td>-0.108300</td>\n",
              "      <td>0.005274</td>\n",
              "      <td>-0.190321</td>\n",
              "      <td>-1.175575</td>\n",
              "      <td>0.647376</td>\n",
              "      <td>-0.221929</td>\n",
              "      <td>0.062723</td>\n",
              "      <td>0.061458</td>\n",
              "      <td>0</td>\n",
              "    </tr>\n",
              "    <tr>\n",
              "      <th>4</th>\n",
              "      <td>-1.158233</td>\n",
              "      <td>0.877737</td>\n",
              "      <td>1.548718</td>\n",
              "      <td>0.403034</td>\n",
              "      <td>-0.407193</td>\n",
              "      <td>0.095921</td>\n",
              "      <td>0.592941</td>\n",
              "      <td>-0.270533</td>\n",
              "      <td>0.817739</td>\n",
              "      <td>0.753074</td>\n",
              "      <td>...</td>\n",
              "      <td>0.408542</td>\n",
              "      <td>-0.009431</td>\n",
              "      <td>0.798278</td>\n",
              "      <td>-0.137458</td>\n",
              "      <td>0.141267</td>\n",
              "      <td>-0.206010</td>\n",
              "      <td>0.502292</td>\n",
              "      <td>0.219422</td>\n",
              "      <td>0.215153</td>\n",
              "      <td>0</td>\n",
              "    </tr>\n",
              "  </tbody>\n",
              "</table>\n",
              "<p>5 rows × 29 columns</p>\n",
              "</div>\n",
              "      <button class=\"colab-df-convert\" onclick=\"convertToInteractive('df-722464a8-eb4b-4f6b-b9c9-806ea202ae92')\"\n",
              "              title=\"Convert this dataframe to an interactive table.\"\n",
              "              style=\"display:none;\">\n",
              "        \n",
              "  <svg xmlns=\"http://www.w3.org/2000/svg\" height=\"24px\"viewBox=\"0 0 24 24\"\n",
              "       width=\"24px\">\n",
              "    <path d=\"M0 0h24v24H0V0z\" fill=\"none\"/>\n",
              "    <path d=\"M18.56 5.44l.94 2.06.94-2.06 2.06-.94-2.06-.94-.94-2.06-.94 2.06-2.06.94zm-11 1L8.5 8.5l.94-2.06 2.06-.94-2.06-.94L8.5 2.5l-.94 2.06-2.06.94zm10 10l.94 2.06.94-2.06 2.06-.94-2.06-.94-.94-2.06-.94 2.06-2.06.94z\"/><path d=\"M17.41 7.96l-1.37-1.37c-.4-.4-.92-.59-1.43-.59-.52 0-1.04.2-1.43.59L10.3 9.45l-7.72 7.72c-.78.78-.78 2.05 0 2.83L4 21.41c.39.39.9.59 1.41.59.51 0 1.02-.2 1.41-.59l7.78-7.78 2.81-2.81c.8-.78.8-2.07 0-2.86zM5.41 20L4 18.59l7.72-7.72 1.47 1.35L5.41 20z\"/>\n",
              "  </svg>\n",
              "      </button>\n",
              "      \n",
              "  <style>\n",
              "    .colab-df-container {\n",
              "      display:flex;\n",
              "      flex-wrap:wrap;\n",
              "      gap: 12px;\n",
              "    }\n",
              "\n",
              "    .colab-df-convert {\n",
              "      background-color: #E8F0FE;\n",
              "      border: none;\n",
              "      border-radius: 50%;\n",
              "      cursor: pointer;\n",
              "      display: none;\n",
              "      fill: #1967D2;\n",
              "      height: 32px;\n",
              "      padding: 0 0 0 0;\n",
              "      width: 32px;\n",
              "    }\n",
              "\n",
              "    .colab-df-convert:hover {\n",
              "      background-color: #E2EBFA;\n",
              "      box-shadow: 0px 1px 2px rgba(60, 64, 67, 0.3), 0px 1px 3px 1px rgba(60, 64, 67, 0.15);\n",
              "      fill: #174EA6;\n",
              "    }\n",
              "\n",
              "    [theme=dark] .colab-df-convert {\n",
              "      background-color: #3B4455;\n",
              "      fill: #D2E3FC;\n",
              "    }\n",
              "\n",
              "    [theme=dark] .colab-df-convert:hover {\n",
              "      background-color: #434B5C;\n",
              "      box-shadow: 0px 1px 3px 1px rgba(0, 0, 0, 0.15);\n",
              "      filter: drop-shadow(0px 1px 2px rgba(0, 0, 0, 0.3));\n",
              "      fill: #FFFFFF;\n",
              "    }\n",
              "  </style>\n",
              "\n",
              "      <script>\n",
              "        const buttonEl =\n",
              "          document.querySelector('#df-722464a8-eb4b-4f6b-b9c9-806ea202ae92 button.colab-df-convert');\n",
              "        buttonEl.style.display =\n",
              "          google.colab.kernel.accessAllowed ? 'block' : 'none';\n",
              "\n",
              "        async function convertToInteractive(key) {\n",
              "          const element = document.querySelector('#df-722464a8-eb4b-4f6b-b9c9-806ea202ae92');\n",
              "          const dataTable =\n",
              "            await google.colab.kernel.invokeFunction('convertToInteractive',\n",
              "                                                     [key], {});\n",
              "          if (!dataTable) return;\n",
              "\n",
              "          const docLinkHtml = 'Like what you see? Visit the ' +\n",
              "            '<a target=\"_blank\" href=https://colab.research.google.com/notebooks/data_table.ipynb>data table notebook</a>'\n",
              "            + ' to learn more about interactive tables.';\n",
              "          element.innerHTML = '';\n",
              "          dataTable['output_type'] = 'display_data';\n",
              "          await google.colab.output.renderOutput(dataTable, element);\n",
              "          const docLink = document.createElement('div');\n",
              "          docLink.innerHTML = docLinkHtml;\n",
              "          element.appendChild(docLink);\n",
              "        }\n",
              "      </script>\n",
              "    </div>\n",
              "  </div>\n",
              "  "
            ]
          },
          "metadata": {},
          "execution_count": 2
        }
      ]
    },
    {
      "cell_type": "markdown",
      "source": [
        "## Splitting dataset"
      ],
      "metadata": {
        "id": "-lDY3ef9IF3M"
      }
    },
    {
      "cell_type": "code",
      "source": [
        "from sklearn.model_selection import train_test_split\n",
        "\n",
        "\n",
        "print('No Frauds', round(df['Class'].value_counts()[0]/len(df) * 100,2), '% of the dataset')\n",
        "print('Frauds', round(df['Class'].value_counts()[1]/len(df) * 100,2), '% of the dataset')\n",
        "\n",
        "X = df.drop('Class', axis=1)\n",
        "y = df['Class']\n",
        "\n",
        "# setting up testing and training sets\n",
        "X_train, X_test, y_train, y_test = train_test_split(X, y, test_size=0.25,random_state=20)\n",
        "\n",
        "# See if both the train and test label distribution are similarly distributed\n",
        "train_unique_label, train_counts_label = np.unique(y_train, return_counts=True)\n",
        "test_unique_label, test_counts_label = np.unique(y_test, return_counts=True)\n",
        "\n",
        "print('\\nLabel Distributions: \\n')\n",
        "print(train_counts_label/ len(y_train))\n",
        "print(test_counts_label/ len(y_train))\n",
        "print(\"\\nTrain:\")\n",
        "print('No Frauds', round(len(y_train[y_train==0])/len(X_train) * 100,2), '% of the dataset')\n",
        "print('Frauds', round(len(y_train[y_train==1])/len(X_train) * 100,2), '% of the dataset')\n",
        "print(\"\\nTest:\")\n",
        "print('No Frauds', round(len(y_test[y_test==0])/len(X_test) * 100,2), '% of the dataset')\n",
        "print('Frauds', round(len(y_test[y_test==1])/len(X_test) * 100,2), '% of the dataset')"
      ],
      "metadata": {
        "colab": {
          "base_uri": "https://localhost:8080/"
        },
        "id": "R2QwN3Vkp8TV",
        "outputId": "655cadc1-d369-4d71-cc4e-5ba0d0d07ad8"
      },
      "execution_count": null,
      "outputs": [
        {
          "output_type": "stream",
          "name": "stdout",
          "text": [
            "No Frauds 99.83 % of the dataset\n",
            "Frauds 0.17 % of the dataset\n",
            "\n",
            "Label Distributions: \n",
            "\n",
            "[0.99820697 0.00179303]\n",
            "[0.33282461 0.00051029]\n",
            "\n",
            "Train:\n",
            "No Frauds 99.82 % of the dataset\n",
            "Frauds 0.18 % of the dataset\n",
            "\n",
            "Test:\n",
            "No Frauds 99.85 % of the dataset\n",
            "Frauds 0.15 % of the dataset\n"
          ]
        }
      ]
    },
    {
      "cell_type": "code",
      "source": [
        "train_df = X_train.copy()\n",
        "train_df['Class'] = y_train\n",
        "train_df.shape"
      ],
      "metadata": {
        "colab": {
          "base_uri": "https://localhost:8080/"
        },
        "id": "UE91KEzLqOJ7",
        "outputId": "5d02b287-eddd-49dd-8f59-94b6183ffb1f"
      },
      "execution_count": null,
      "outputs": [
        {
          "output_type": "execute_result",
          "data": {
            "text/plain": [
              "(213605, 29)"
            ]
          },
          "metadata": {},
          "execution_count": 4
        }
      ]
    },
    {
      "cell_type": "code",
      "source": [
        "train_df['Class'].value_counts()"
      ],
      "metadata": {
        "colab": {
          "base_uri": "https://localhost:8080/"
        },
        "id": "_aUBhzMdqPzZ",
        "outputId": "aa7daaf4-f461-4e62-b091-b782fc8fc010"
      },
      "execution_count": null,
      "outputs": [
        {
          "output_type": "execute_result",
          "data": {
            "text/plain": [
              "0    213222\n",
              "1       383\n",
              "Name: Class, dtype: int64"
            ]
          },
          "metadata": {},
          "execution_count": 24
        }
      ]
    },
    {
      "cell_type": "markdown",
      "source": [
        "## Applying sampling techniques on the training data"
      ],
      "metadata": {
        "id": "ehy7DY9CKzg9"
      }
    },
    {
      "cell_type": "code",
      "source": [
        "#Random Under-sampling\n",
        "# Class count\n",
        "count_class_0, count_class_1 = train_df.Class.value_counts()\n",
        "\n",
        "# Divide by class\n",
        "train_df_0 = train_df[train_df['Class'] == 0]\n",
        "train_df_1 = train_df[train_df['Class'] == 1]\n",
        "\n",
        "train_df_0_under = train_df_0.sample(count_class_1)\n",
        "train_df_under = pd.concat([train_df_0_under, train_df_1], axis=0)\n",
        "\n",
        "print('Random under-sampling:')\n",
        "print(train_df_under.Class.value_counts())\n",
        "\n",
        "sns.countplot('Class', data=train_df_under)\n"
      ],
      "metadata": {
        "colab": {
          "base_uri": "https://localhost:8080/",
          "height": 423
        },
        "id": "vQyD754iK5mP",
        "outputId": "414b9b95-3f88-41cd-ab37-deadabdcfbb3"
      },
      "execution_count": null,
      "outputs": [
        {
          "output_type": "stream",
          "name": "stdout",
          "text": [
            "Random under-sampling:\n",
            "0    383\n",
            "1    383\n",
            "Name: Class, dtype: int64\n"
          ]
        },
        {
          "output_type": "stream",
          "name": "stderr",
          "text": [
            "/usr/local/lib/python3.7/dist-packages/seaborn/_decorators.py:43: FutureWarning: Pass the following variable as a keyword arg: x. From version 0.12, the only valid positional argument will be `data`, and passing other arguments without an explicit keyword will result in an error or misinterpretation.\n",
            "  FutureWarning\n"
          ]
        },
        {
          "output_type": "execute_result",
          "data": {
            "text/plain": [
              "<matplotlib.axes._subplots.AxesSubplot at 0x7ff35f760690>"
            ]
          },
          "metadata": {},
          "execution_count": 5
        },
        {
          "output_type": "display_data",
          "data": {
            "text/plain": [
              "<Figure size 432x288 with 1 Axes>"
            ],
            "image/png": "[encoded data removed]"
          },
          "metadata": {
            "needs_background": "light"
          }
        }
      ]
    },
    {
      "cell_type": "code",
      "source": [
        "#Ranodm over-Sampling\n",
        "train_df_1_over = train_df_1.sample(count_class_0, replace=True)\n",
        "train_df_over = pd.concat([train_df_0, train_df_1_over], axis=0)\n",
        "\n",
        "print('Random over-sampling:')\n",
        "print(train_df_over.Class.value_counts())\n",
        "\n",
        "sns.countplot('Class', data=train_df_over)"
      ],
      "metadata": {
        "colab": {
          "base_uri": "https://localhost:8080/",
          "height": 420
        },
        "id": "cViUZThNrIq9",
        "outputId": "d252cb52-5d1c-4872-870b-a4440feea3f5"
      },
      "execution_count": null,
      "outputs": [
        {
          "output_type": "stream",
          "name": "stdout",
          "text": [
            "Random over-sampling:\n",
            "0    213222\n",
            "1    213222\n",
            "Name: Class, dtype: int64\n"
          ]
        },
        {
          "output_type": "stream",
          "name": "stderr",
          "text": [
            "/usr/local/lib/python3.7/dist-packages/seaborn/_decorators.py:43: FutureWarning: Pass the following variable as a keyword arg: x. From version 0.12, the only valid positional argument will be `data`, and passing other arguments without an explicit keyword will result in an error or misinterpretation.\n",
            "  FutureWarning\n"
          ]
        },
        {
          "output_type": "execute_result",
          "data": {
            "text/plain": [
              "<matplotlib.axes._subplots.AxesSubplot at 0x7ff35ec5d110>"
            ]
          },
          "metadata": {},
          "execution_count": 6
        },
        {
          "output_type": "display_data",
          "data": {
            "text/plain": [
              "<Figure size 432x288 with 1 Axes>"
            ],
            "image/png": "[encoded data removed]"
          },
          "metadata": {
            "needs_background": "light"
          }
        }
      ]
    },
    {
      "cell_type": "code",
      "source": [
        "# SMOTE\n",
        "from imblearn.over_sampling import SMOTE\n",
        "from sklearn.model_selection import train_test_split\n",
        "sm = SMOTE()\n",
        "X_sm, y_sm = sm.fit_resample(X_train, y_train)\n",
        "\n",
        "train_df_sm = X_sm\n",
        "train_df_sm['Class'] = y_sm\n",
        "\n",
        "print('SMOTE over-sampling:')\n",
        "print(train_df_sm.Class.value_counts())\n",
        "sns.countplot('Class', data=train_df_sm)"
      ],
      "metadata": {
        "colab": {
          "base_uri": "https://localhost:8080/",
          "height": 420
        },
        "id": "NXOqgKvVpHzk",
        "outputId": "37b6dd75-c326-41c0-b3f2-f24402b34842"
      },
      "execution_count": null,
      "outputs": [
        {
          "output_type": "stream",
          "name": "stdout",
          "text": [
            "SMOTE over-sampling:\n",
            "0    213222\n",
            "1    213222\n",
            "Name: Class, dtype: int64\n"
          ]
        },
        {
          "output_type": "stream",
          "name": "stderr",
          "text": [
            "/usr/local/lib/python3.7/dist-packages/seaborn/_decorators.py:43: FutureWarning: Pass the following variable as a keyword arg: x. From version 0.12, the only valid positional argument will be `data`, and passing other arguments without an explicit keyword will result in an error or misinterpretation.\n",
            "  FutureWarning\n"
          ]
        },
        {
          "output_type": "execute_result",
          "data": {
            "text/plain": [
              "<matplotlib.axes._subplots.AxesSubplot at 0x7ff35d468b90>"
            ]
          },
          "metadata": {},
          "execution_count": 7
        },
        {
          "output_type": "display_data",
          "data": {
            "text/plain": [
              "<Figure size 432x288 with 1 Axes>"
            ],
            "image/png": "[encoded data removed]"
          },
          "metadata": {
            "needs_background": "light"
          }
        }
      ]
    },
    {
      "cell_type": "code",
      "source": [
        "train_df_sm.columns"
      ],
      "metadata": {
        "colab": {
          "base_uri": "https://localhost:8080/"
        },
        "id": "6hJISj_EsctT",
        "outputId": "67b03bb3-e231-4bbb-dc38-6ce885f47c1d"
      },
      "execution_count": null,
      "outputs": [
        {
          "output_type": "execute_result",
          "data": {
            "text/plain": [
              "Index(['V1', 'V2', 'V3', 'V4', 'V5', 'V6', 'V7', 'V8', 'V9', 'V10', 'V11',\n",
              "       'V12', 'V13', 'V14', 'V15', 'V16', 'V17', 'V18', 'V19', 'V20', 'V21',\n",
              "       'V22', 'V23', 'V24', 'V25', 'V26', 'V27', 'V28', 'Class'],\n",
              "      dtype='object')"
            ]
          },
          "metadata": {},
          "execution_count": 9
        }
      ]
    },
    {
      "cell_type": "code",
      "source": [
        "X_train_under = train_df_under.drop(columns=['Class'])\n",
        "y_train_under = train_df_under[\"Class\"]"
      ],
      "metadata": {
        "id": "fBIsFHQCsyMO"
      },
      "execution_count": null,
      "outputs": []
    },
    {
      "cell_type": "code",
      "source": [
        "X_train_smote = train_df_sm.drop(columns=['Class'])\n",
        "y_train_smote = train_df_sm[\"Class\"]"
      ],
      "metadata": {
        "id": "miKlkN-2qrsI"
      },
      "execution_count": null,
      "outputs": []
    },
    {
      "cell_type": "code",
      "source": [
        "X_train_over = train_df_over.drop(columns=['Class'])\n",
        "y_train_over = train_df_over[\"Class\"]"
      ],
      "metadata": {
        "id": "fBJI6QmKA3cL"
      },
      "execution_count": null,
      "outputs": []
    },
    {
      "cell_type": "code",
      "source": [
        "#data contains SMOTE and under-sampling datasets\n",
        "data=[\n",
        "    [X_train_smote,y_train_smote,\"SMOTE\"],\n",
        "    [X_train_under,y_train_under,\"Under Sampling\"]\n",
        "]"
      ],
      "metadata": {
        "id": "XFd8qUuOtEW0"
      },
      "execution_count": null,
      "outputs": []
    },
    {
      "cell_type": "code",
      "source": [
        "#data2 contains over-sampling and datasets(without applying sampling technique)\n",
        "data2=[\n",
        "    [X_train_over,y_train_over,\"Over Sampling\"],\n",
        "    [X_train,y_train,\"No Sampling\"]\n",
        "]"
      ],
      "metadata": {
        "id": "P579Fx84BOt9"
      },
      "execution_count": null,
      "outputs": []
    },
    {
      "cell_type": "code",
      "source": [
        "#Classifier Libraries\n",
        "from sklearn.linear_model import LogisticRegression\n",
        "from sklearn.ensemble import RandomForestClassifier\n",
        "from sklearn.tree import DecisionTreeClassifier\n",
        "\n",
        "classifiers = {\n",
        "    \"DecisionTreeClassifier\":DecisionTreeClassifier(),\n",
        "    \"LogisticRegression\":LogisticRegression(max_iter=1000),\n",
        "    \"RandomForest\":RandomForestClassifier()\n",
        "}"
      ],
      "metadata": {
        "id": "DQzKGLMTta17"
      },
      "execution_count": null,
      "outputs": []
    },
    {
      "cell_type": "code",
      "source": [
        "from sklearn.metrics import accuracy_score\n",
        "for X,y,name in data:\n",
        "    print(\"\\n\\n\" +name+ \":\\n\")\n",
        "    for key, classifier in classifiers.items():\n",
        "        clf=classifier.fit(X,y)\n",
        "        training_score = accuracy_score(y_test,clf.predict(X_test))\n",
        "        print(\"Classifiers:\", classifier.__class__.__name__, \"has a training score of\", \\\n",
        "              (training_score)*100, \"% accuracy score\")"
      ],
      "metadata": {
        "colab": {
          "base_uri": "https://localhost:8080/"
        },
        "id": "njgZYbfDuTeD",
        "outputId": "07038540-dbc3-4aba-876d-4d3cdde6e445"
      },
      "execution_count": null,
      "outputs": [
        {
          "output_type": "stream",
          "name": "stdout",
          "text": [
            "\n",
            "\n",
            "SMOTE:\n",
            "\n",
            "Classifiers: DecisionTreeClassifier has a training score of 99.76966939130924 % accuracy score\n",
            "Classifiers: LogisticRegression has a training score of 97.61944889188506 % accuracy score\n",
            "Classifiers: RandomForestClassifier has a training score of 99.95365298727565 % accuracy score\n",
            "\n",
            "\n",
            "Under Sampling:\n",
            "\n",
            "Classifiers: DecisionTreeClassifier has a training score of 87.95820342125221 % accuracy score\n",
            "Classifiers: LogisticRegression has a training score of 96.255723153844 % accuracy score\n",
            "Classifiers: RandomForestClassifier has a training score of 97.55905732985029 % accuracy score\n"
          ]
        }
      ]
    },
    {
      "cell_type": "code",
      "source": [
        "\n",
        "from sklearn.metrics import accuracy_score\n",
        "for X,y,name in data2:\n",
        "    print(\"\\n\\n\" +name+ \":\\n\")\n",
        "    for key, classifier in classifiers.items():\n",
        "        clf=classifier.fit(X,y)\n",
        "        training_score = accuracy_score(y_test,clf.predict(X_test))\n",
        "        print(\"Classifiers:\", classifier.__class__.__name__, \"has a training score of\", \\\n",
        "              (training_score)*100, \"% accuracy score\")"
      ],
      "metadata": {
        "colab": {
          "base_uri": "https://localhost:8080/"
        },
        "id": "TUlN_IsKB0_j",
        "outputId": "ad8e5f33-71d6-4592-b241-70b5b09a1a8d"
      },
      "execution_count": null,
      "outputs": [
        {
          "output_type": "stream",
          "name": "stdout",
          "text": [
            "\n",
            "\n",
            "Over Sampling:\n",
            "\n",
            "Classifiers: DecisionTreeClassifier has a training score of 99.91854161399961 % accuracy score\n",
            "Classifiers: LogisticRegression has a training score of 97.81326367236875 % accuracy score\n",
            "Classifiers: RandomForestClassifier has a training score of 99.9592708069998 % accuracy score\n",
            "\n",
            "\n",
            "No Sampling:\n",
            "\n",
            "Classifiers: DecisionTreeClassifier has a training score of 99.92135052386169 % accuracy score\n",
            "Classifiers: LogisticRegression has a training score of 99.91854161399961 % accuracy score\n",
            "Classifiers: RandomForestClassifier has a training score of 99.96348417179293 % accuracy score\n"
          ]
        }
      ]
    },
    {
      "cell_type": "markdown",
      "source": [
        "From above we can say that most the model acheived high accuracy,\n",
        "but this can be overfitting problem.\n",
        "1. In this type of imbalanced data, the model accuracy score is not meaningful.\n",
        "2. In such cases, the results are always biased towards the majority samples.\n",
        "3. Though we have applied sampling techniques to acheive equal distributions,\n",
        "   we shuold not use accuracy_score to evaluate this kind imbalanced binary classifiaction problems."
      ],
      "metadata": {
        "id": "Rxb-6ORmeDCi"
      }
    },
    {
      "cell_type": "markdown",
      "source": [
        "# Let's apply another ensemble approach, BaggingClassifier with base_estimator as DecisionTreeClassifier"
      ],
      "metadata": {
        "id": "qVE8z6kIhOpH"
      }
    },
    {
      "cell_type": "code",
      "source": [
        "from sklearn.ensemble import BaggingClassifier\n",
        "from sklearn.tree import DecisionTreeClassifier\n",
        "\n",
        "bag=BaggingClassifier(\n",
        "    base_estimator=DecisionTreeClassifier(),\n",
        "    n_estimators= 10,\n",
        "    max_samples=0.8,\n",
        "    random_state=0\n",
        ")\n",
        "\n",
        "bag.fit(X_train, y_train)\n"
      ],
      "metadata": {
        "colab": {
          "base_uri": "https://localhost:8080/"
        },
        "id": "sQ4zg1kGYs8q",
        "outputId": "736a36d9-2021-4feb-cfca-69dbc621e8d9"
      },
      "execution_count": null,
      "outputs": [
        {
          "output_type": "execute_result",
          "data": {
            "text/plain": [
              "BaggingClassifier(base_estimator=DecisionTreeClassifier(), max_samples=0.8,\n",
              "                  random_state=0)"
            ]
          },
          "metadata": {},
          "execution_count": 17
        }
      ]
    },
    {
      "cell_type": "code",
      "source": [
        "bag_OverSampling=BaggingClassifier(\n",
        "    base_estimator=DecisionTreeClassifier(),\n",
        "    n_estimators= 10,\n",
        "    max_samples=0.8,\n",
        "    random_state=0)\n",
        "bag_Undersampling=BaggingClassifier(\n",
        "    base_estimator=DecisionTreeClassifier(),\n",
        "    n_estimators= 10,\n",
        "    max_samples=0.8,\n",
        "    random_state=0)\n",
        "bag_smote=BaggingClassifier(\n",
        "    base_estimator=DecisionTreeClassifier(),\n",
        "    n_estimators= 10,\n",
        "    max_samples=0.8,\n",
        "    random_state=0)\n"
      ],
      "metadata": {
        "id": "0iRDKptV4wuE"
      },
      "execution_count": null,
      "outputs": []
    },
    {
      "cell_type": "code",
      "source": [
        "bag_Undersampling.fit(X_train_under,y_train_under)\n",
        "bag_OverSampling.fit(X_train_over,y_train_over)\n",
        "bag_smote.fit(X_train_smote,y_train_smote)"
      ],
      "metadata": {
        "colab": {
          "base_uri": "https://localhost:8080/"
        },
        "id": "AC7rVzV85Zbe",
        "outputId": "4b5bb82a-3721-474f-f203-4b95d1fb85b9"
      },
      "execution_count": null,
      "outputs": [
        {
          "output_type": "execute_result",
          "data": {
            "text/plain": [
              "BaggingClassifier(base_estimator=DecisionTreeClassifier(), max_samples=0.8,\n",
              "                  random_state=0)"
            ]
          },
          "metadata": {},
          "execution_count": 19
        }
      ]
    },
    {
      "cell_type": "code",
      "source": [
        "from sklearn.linear_model import LogisticRegression\n",
        "from sklearn.tree import DecisionTreeClassifier\n",
        "from sklearn.ensemble import RandomForestClassifier\n",
        "\n",
        "\n",
        "DT = DecisionTreeClassifier()\n",
        "LR= LogisticRegression()\n",
        "RF = RandomForestClassifier()\n",
        "\n",
        "DT.fit(X_train,y_train)\n",
        "LR.fit(X_train,y_train)\n",
        "RF.fit(X_train,y_train)\n",
        "\n",
        "decision_OverSampling = DecisionTreeClassifier()\n",
        "logistic_OverSampling = LogisticRegression()\n",
        "RF_OverSampling = RandomForestClassifier()\n",
        "\n",
        "\n",
        "decision_OverSampling.fit(X_train_over,y_train_over)\n",
        "logistic_OverSampling.fit(X_train_over,y_train_over)\n",
        "RF_OverSampling.fit(X_train_over,y_train_over)\n",
        "\n",
        "\n"
      ],
      "metadata": {
        "colab": {
          "base_uri": "https://localhost:8080/"
        },
        "id": "2vVzLJ4K1vdE",
        "outputId": "bd751a92-efad-49cf-a723-34480e1ba4d4"
      },
      "execution_count": null,
      "outputs": [
        {
          "output_type": "execute_result",
          "data": {
            "text/plain": [
              "RandomForestClassifier()"
            ]
          },
          "metadata": {},
          "execution_count": 14
        }
      ]
    },
    {
      "cell_type": "code",
      "source": [
        "decision_UnderSampling = DecisionTreeClassifier()\n",
        "logistic_UnderSampling = LogisticRegression()\n",
        "RF_UnderSampling = RandomForestClassifier()\n",
        "\n",
        "decision_UnderSampling.fit(X_train_under,y_train_under)\n",
        "logistic_UnderSampling.fit(X_train_under,y_train_under)\n",
        "RF_UnderSampling.fit(X_train_under,y_train_under)\n",
        "\n",
        "\n",
        "decision_smote = DecisionTreeClassifier()\n",
        "logistic_smote = LogisticRegression()\n",
        "RF_smote = RandomForestClassifier()\n",
        "\n",
        "\n",
        "decision_smote.fit(X_train_smote,y_train_smote)\n",
        "logistic_smote.fit(X_train_smote,y_train_smote)\n",
        "RF_smote.fit(X_train_smote,y_train_smote)\n"
      ],
      "metadata": {
        "colab": {
          "base_uri": "https://localhost:8080/"
        },
        "id": "8J9CC6MgQBii",
        "outputId": "a3663dd2-9545-40d3-d42e-5e2fb485d1b9"
      },
      "execution_count": null,
      "outputs": [
        {
          "output_type": "execute_result",
          "data": {
            "text/plain": [
              "RandomForestClassifier()"
            ]
          },
          "metadata": {},
          "execution_count": 24
        }
      ]
    },
    {
      "cell_type": "markdown",
      "source": [
        "# Evaluating uisng precision_recall_curve"
      ],
      "metadata": {
        "id": "pysatXQ7h0vW"
      }
    },
    {
      "cell_type": "code",
      "source": [
        "from sklearn.metrics import precision_recall_curve\n",
        "from sklearn.metrics import average_precision_score\n",
        "\n",
        "from sklearn.metrics import roc_curve\n",
        "log_fpr, log_tpr, log_thresold =precision_recall_curve(y_test, \n",
        "                                           LR.predict_proba(X_test)[:,1])\n",
        "dt_fpr, dt_tpr, dt_thresold =precision_recall_curve(y_test, \n",
        "                                           DT.predict_proba(X_test)[:,1])\n",
        "rf_fpr, rf_tpr, rf_threshold = precision_recall_curve(y_test, \n",
        "                                            RF.predict_proba(X_test)[:,1])\n",
        "bag_fpr, bag_tpr, bag_threshold = precision_recall_curve(y_test, \n",
        "                                            bag.predict_proba(X_test)[:,1])\n",
        "\n",
        "\n",
        "\n",
        "lru_fpr, lru_tpr, lru_thresold = precision_recall_curve(y_test, \n",
        "                                           logistic_UnderSampling.predict_proba(X_test)[:,1])\n",
        "dtu_fpr, dtu_tpr, dtu_thresold = precision_recall_curve(y_test, \n",
        "                                           decision_UnderSampling.predict_proba(X_test)[:,1])\n",
        "rfu_fpr, rfu_tpr, rfu_threshold = precision_recall_curve(y_test, \n",
        "                                            RF_UnderSampling.predict_proba(X_test)[:,1])\n",
        "bagu_fpr, bagu_tpr, bagu_threshold = precision_recall_curve(y_test, \n",
        "                                            bag_Undersampling.predict_proba(X_test)[:,1])\n",
        "\n",
        "\n",
        "lro_fpr, lro_tpr, lro_threshold =precision_recall_curve(y_test, \n",
        "                                               logistic_OverSampling.predict_proba(X_test)[:,1])\n",
        "dto_fpr, dto_tpr, dto_thresold = precision_recall_curve(y_test, \n",
        "                                           decision_OverSampling.predict_proba(X_test)[:,1])\n",
        "rfo_fpr, rfo_tpr, rfo_threshold = precision_recall_curve(y_test, \n",
        "                                            RF_OverSampling.predict_proba(X_test)[:,1])\n",
        "bago_fpr, bago_tpr, bago_threshold = precision_recall_curve(y_test, \n",
        "                                            bag_OverSampling.predict_proba(X_test)[:,1])\n",
        "\n",
        "\n",
        "lrsm_fpr, lrsm_tpr, lrsm_threshold = precision_recall_curve(y_test, \n",
        "                                               logistic_smote.predict_proba(X_test)[:,1])\n",
        "dtsm_fpr, dtsm_tpr, dtsm_threshold = precision_recall_curve(y_test, \n",
        "                                               decision_smote.predict_proba(X_test)[:,1])\n",
        "rfsm_fpr, rfsm_tpr, rfsm_threshold = precision_recall_curve(y_test, \n",
        "                                               RF_smote.predict_proba(X_test)[:,1])\n",
        "bagsm_fpr, bagsm_tpr, bagsm_threshold = precision_recall_curve(y_test, \n",
        "                                               bag_smote.predict_proba(X_test)[:,1])\n",
        "\n",
        "\n",
        "\n",
        "plt.figure(figsize=(16,8))\n",
        "plt.title('Precision-Recall Curve', fontsize=18)\n",
        "plt.plot(log_fpr, log_tpr, \n",
        "         label='LR_NoSampling: {0:0.2f}'.format( \\\n",
        "             average_precision_score(y_test, LR.predict_proba(X_test)[:,1])))\n",
        "plt.plot(dt_fpr, dt_tpr, \n",
        "         label='DT_NoSampling: {0:0.2f}'.format( \\\n",
        "             average_precision_score(y_test, DT.predict_proba(X_test)[:,1])))\n",
        "plt.plot(rf_fpr, rf_tpr, \n",
        "         label='RF_NoSampling: {0:0.2f}'.format( \\\n",
        "                                      average_precision_score(y_test, RF.predict_proba(X_test)[:,1])))\n",
        "plt.plot(bag_fpr, bag_tpr, \n",
        "         label='Bagging_NoSampling: {0:0.2f}'.format( \\\n",
        "             average_precision_score(y_test, bag.predict_proba(X_test)[:,1])))\n",
        "\n",
        "plt.plot(lru_fpr, lru_tpr, \n",
        "         label='logistic_UnderSampling: {0:0.2f}'.format( \\\n",
        "             average_precision_score(y_test, logistic_UnderSampling.predict_proba(X_test)[:,1])))\n",
        "plt.plot(dtu_fpr, dtu_tpr, \n",
        "         label='decision_UnderSampling: {0:0.2f}'.format( \\\n",
        "             average_precision_score(y_test, decision_UnderSampling.predict_proba(X_test)[:,1])))\n",
        "plt.plot(rfu_fpr, rfu_tpr, \n",
        "         label='RF_UnderSampling: {0:0.2f}'.format( \\\n",
        "             average_precision_score(y_test, RF_UnderSampling.predict_proba(X_test)[:,1])))\n",
        "plt.plot(bagu_fpr, bagu_tpr, \n",
        "         label='Bagging_UnderSampling: {0:0.2f}'.format( \\\n",
        "             average_precision_score(y_test, bag_Undersampling.predict_proba(X_test)[:,1])))\n",
        "\n",
        "plt.plot(lro_fpr, lro_tpr, \n",
        "         label='logistic_OverSampling: {0:0.2f}'.format( \\\n",
        "             average_precision_score(y_test, logistic_OverSampling.predict_proba(X_test)[:,1])))\n",
        "plt.plot(dto_fpr, dto_tpr, \n",
        "         label='decision_OverSampling: {0:0.2f}'.format( \\\n",
        "             average_precision_score(y_test,decision_OverSampling.predict_proba(X_test)[:,1])))\n",
        "plt.plot(rfo_fpr, rfo_tpr, \n",
        "         label='RF_OverSampling: {0:0.2f}'.format( \\\n",
        "             average_precision_score(y_test, RF_OverSampling.predict_proba(X_test)[:,1])))\n",
        "plt.plot(bago_fpr, bago_tpr, \n",
        "         label='Bagging_OverSampling: {0:0.2f}'.format( \\\n",
        "             average_precision_score(y_test, bag_OverSampling.predict_proba(X_test)[:,1])))\n",
        "\n",
        "plt.plot(lrsm_fpr, lrsm_tpr, \n",
        "         label='logistic_smote: {0:0.2f}'.format( \\\n",
        "             average_precision_score(y_test, logistic_smote.predict_proba(X_test)[:,1])))\n",
        "plt.plot(dtsm_fpr, dtsm_tpr, \n",
        "         label='decision_smote: {0:0.2f}'.format( \\\n",
        "             average_precision_score(y_test, decision_smote.predict_proba(X_test)[:,1])))\n",
        "plt.plot(rfsm_fpr, rfsm_tpr, \n",
        "         label='RF_smote: {0:0.2f}'.format( \\\n",
        "             average_precision_score(y_test, RF_smote.predict_proba(X_test)[:,1])))\n",
        "\n",
        "plt.plot(bagsm_fpr, bagsm_tpr, \n",
        "         label='Bagging_smote: {0:0.2f}'.format( \\\n",
        "             average_precision_score(y_test, bag_smote.predict_proba(X_test)[:,1])))\n",
        "\n",
        "\n",
        "plt.xlabel('Recall', fontsize=16)\n",
        "plt.ylabel('Precision', fontsize=16)\n",
        "plt.legend()\n",
        "plt.show()"
      ],
      "metadata": {
        "colab": {
          "base_uri": "https://localhost:8080/",
          "height": 522
        },
        "id": "s2SVWvfXFpDy",
        "outputId": "4067cba4-d18f-41b3-b60c-723b207b16ae"
      },
      "execution_count": null,
      "outputs": [
        {
          "output_type": "display_data",
          "data": {
            "text/plain": [
              "<Figure size 1152x576 with 1 Axes>"
            ],
            "image/png": "[encoded data removed]"
          },
          "metadata": {
            "needs_background": "light"
          }
        }
      ]
    },
    {
      "cell_type": "markdown",
      "source": [
        "After evaluating all the models we can see that though most of the accuracies are approximately 99% but the average precisions are different. This is the drawback of accuracy score,in case of extreme imbalanced class distribution accuracy score is not meaningful. "
      ],
      "metadata": {
        "id": "YUs85ZljigPD"
      }
    },
    {
      "cell_type": "markdown",
      "source": [
        "In such cases the precision-recall curve is best for identifying good models.The precision-recall curve is calculated based on precision and recall of model that shows how the model is performing in different threshold values in the curve.It is useful when the dataset has an imbalanced distribution. Because in this measurement, the positive outcomes are the more class of interest than the negative ones. Since precision and recall do not use true negative values while calculation,it does not affect the imbalanced data."
      ],
      "metadata": {
        "id": "HaUXO32i3aqW"
      }
    },
    {
      "cell_type": "markdown",
      "source": [
        "## Bagging, Random Forest and Random Forest with SMOTE are best here"
      ],
      "metadata": {
        "id": "CNeETAZORMeo"
      }
    },
    {
      "cell_type": "markdown",
      "source": [
        "## Classification Reports"
      ],
      "metadata": {
        "id": "tMkqrxvF1P89"
      }
    },
    {
      "cell_type": "code",
      "source": [
        "from sklearn.metrics import classification_report\n",
        "\n",
        "print('Logistic Regression without Sampling:')\n",
        "print(classification_report(y_test, LR.predict(X_test)))\n",
        "\n",
        "print('Decision Tree without Sampling:')\n",
        "print(classification_report(y_test, DT.predict(X_test)))\n",
        "\n",
        "print('Random Forest without Sampling:')\n",
        "print(classification_report(y_test, RF.predict(X_test)))\n",
        "print('bagging without Sampling:')\n",
        "print(classification_report(y_test, bag.predict(X_test)))\n",
        "\n",
        "\n",
        "\n",
        "\n",
        "\n",
        "print('Logistic Regression with Under Sampling:')\n",
        "print(classification_report(y_test, logistic_UnderSampling.predict(X_test)))\n",
        "\n",
        "print('Decision Tree with Under Sampling:')\n",
        "print(classification_report(y_test, decision_UnderSampling.predict(X_test)))\n",
        "\n",
        "print('Random Forest with Under Sampling:')\n",
        "print(classification_report(y_test, RF_UnderSampling.predict(X_test)))\n",
        "\n",
        "print('Bagging with Under Sampling:')\n",
        "print(classification_report(y_test, bag_Undersampling.predict(X_test)))\n",
        "\n"
      ],
      "metadata": {
        "colab": {
          "base_uri": "https://localhost:8080/"
        },
        "id": "P5CpAYm7JppG",
        "outputId": "9005165b-4e95-49b6-9755-515c5257a27c"
      },
      "execution_count": null,
      "outputs": [
        {
          "output_type": "stream",
          "name": "stdout",
          "text": [
            "Logistic Regression without Sampling:\n",
            "              precision    recall  f1-score   support\n",
            "\n",
            "           0       1.00      1.00      1.00     71093\n",
            "           1       0.82      0.60      0.69       109\n",
            "\n",
            "    accuracy                           1.00     71202\n",
            "   macro avg       0.91      0.80      0.85     71202\n",
            "weighted avg       1.00      1.00      1.00     71202\n",
            "\n",
            "Decision Tree without Sampling:\n",
            "              precision    recall  f1-score   support\n",
            "\n",
            "           0       1.00      1.00      1.00     71093\n",
            "           1       0.75      0.79      0.77       109\n",
            "\n",
            "    accuracy                           1.00     71202\n",
            "   macro avg       0.87      0.89      0.88     71202\n",
            "weighted avg       1.00      1.00      1.00     71202\n",
            "\n",
            "Random Forest without Sampling:\n",
            "              precision    recall  f1-score   support\n",
            "\n",
            "           0       1.00      1.00      1.00     71093\n",
            "           1       0.95      0.79      0.86       109\n",
            "\n",
            "    accuracy                           1.00     71202\n",
            "   macro avg       0.97      0.89      0.93     71202\n",
            "weighted avg       1.00      1.00      1.00     71202\n",
            "\n",
            "bagging without Sampling:\n",
            "              precision    recall  f1-score   support\n",
            "\n",
            "           0       1.00      1.00      1.00     71093\n",
            "           1       0.91      0.78      0.84       109\n",
            "\n",
            "    accuracy                           1.00     71202\n",
            "   macro avg       0.96      0.89      0.92     71202\n",
            "weighted avg       1.00      1.00      1.00     71202\n",
            "\n",
            "Logistic Regression with Under Sampling:\n",
            "              precision    recall  f1-score   support\n",
            "\n",
            "           0       1.00      0.97      0.98     71093\n",
            "           1       0.04      0.93      0.09       109\n",
            "\n",
            "    accuracy                           0.97     71202\n",
            "   macro avg       0.52      0.95      0.53     71202\n",
            "weighted avg       1.00      0.97      0.98     71202\n",
            "\n",
            "Decision Tree with Under Sampling:\n",
            "              precision    recall  f1-score   support\n",
            "\n",
            "           0       1.00      0.90      0.95     71093\n",
            "           1       0.01      0.90      0.03       109\n",
            "\n",
            "    accuracy                           0.90     71202\n",
            "   macro avg       0.51      0.90      0.49     71202\n",
            "weighted avg       1.00      0.90      0.94     71202\n",
            "\n",
            "Random Forest with Under Sampling:\n",
            "              precision    recall  f1-score   support\n",
            "\n",
            "           0       1.00      0.98      0.99     71093\n",
            "           1       0.05      0.89      0.10       109\n",
            "\n",
            "    accuracy                           0.98     71202\n",
            "   macro avg       0.53      0.93      0.54     71202\n",
            "weighted avg       1.00      0.98      0.99     71202\n",
            "\n",
            "Bagging with Under Sampling:\n",
            "              precision    recall  f1-score   support\n",
            "\n",
            "           0       1.00      0.97      0.98     71093\n",
            "           1       0.04      0.87      0.07       109\n",
            "\n",
            "    accuracy                           0.97     71202\n",
            "   macro avg       0.52      0.92      0.53     71202\n",
            "weighted avg       1.00      0.97      0.98     71202\n",
            "\n"
          ]
        }
      ]
    },
    {
      "cell_type": "code",
      "source": [
        "print('Logistic Regression with Over Sampling:')\n",
        "print(classification_report(y_test, logistic_OverSampling.predict(X_test)))\n",
        "print('Decision with Over Sampling:')\n",
        "print(classification_report(y_test, decision_OverSampling.predict(X_test)))\n",
        "print('Random Forest with Over Sampling:')\n",
        "print(classification_report(y_test, RF_OverSampling.predict(X_test)))\n",
        "print('Bagging with Over Sampling:')\n",
        "print(classification_report(y_test, bag_OverSampling.predict(X_test)))\n",
        "\n",
        "print('Logistic Regression with SMOTE:')\n",
        "print(classification_report(y_test, logistic_smote.predict(X_test)))\n",
        "print('Decision Tree with SMOTE:')\n",
        "print(classification_report(y_test, decision_smote.predict(X_test)))\n",
        "print('Random Forest with SMOTE:')\n",
        "print(classification_report(y_test, RF_smote.predict(X_test)))\n",
        "\n",
        "print('Bagging with SMOTE')\n",
        "print(classification_report(y_test, bag_smote.predict(X_test)))"
      ],
      "metadata": {
        "colab": {
          "base_uri": "https://localhost:8080/"
        },
        "id": "p1z3laXxiYSm",
        "outputId": "53583416-462f-4241-d1ce-687d82bc6b25"
      },
      "execution_count": null,
      "outputs": [
        {
          "output_type": "stream",
          "name": "stdout",
          "text": [
            "Logistic Regression with Over Sampling:\n",
            "              precision    recall  f1-score   support\n",
            "\n",
            "           0       1.00      0.98      0.99     71093\n",
            "           1       0.06      0.92      0.11       109\n",
            "\n",
            "    accuracy                           0.98     71202\n",
            "   macro avg       0.53      0.95      0.55     71202\n",
            "weighted avg       1.00      0.98      0.99     71202\n",
            "\n",
            "Decision with Over Sampling:\n",
            "              precision    recall  f1-score   support\n",
            "\n",
            "           0       1.00      1.00      1.00     71093\n",
            "           1       0.71      0.75      0.73       109\n",
            "\n",
            "    accuracy                           1.00     71202\n",
            "   macro avg       0.85      0.88      0.86     71202\n",
            "weighted avg       1.00      1.00      1.00     71202\n",
            "\n",
            "Random Forest with Over Sampling:\n",
            "              precision    recall  f1-score   support\n",
            "\n",
            "           0       1.00      1.00      1.00     71093\n",
            "           1       0.93      0.80      0.86       109\n",
            "\n",
            "    accuracy                           1.00     71202\n",
            "   macro avg       0.96      0.90      0.93     71202\n",
            "weighted avg       1.00      1.00      1.00     71202\n",
            "\n",
            "Bagging with Over Sampling:\n",
            "              precision    recall  f1-score   support\n",
            "\n",
            "           0       1.00      1.00      1.00     71093\n",
            "           1       0.82      0.76      0.79       109\n",
            "\n",
            "    accuracy                           1.00     71202\n",
            "   macro avg       0.91      0.88      0.90     71202\n",
            "weighted avg       1.00      1.00      1.00     71202\n",
            "\n",
            "Logistic Regression with SMOTE:\n",
            "              precision    recall  f1-score   support\n",
            "\n",
            "           0       1.00      0.98      0.99     71093\n",
            "           1       0.06      0.91      0.10       109\n",
            "\n",
            "    accuracy                           0.98     71202\n",
            "   macro avg       0.53      0.94      0.55     71202\n",
            "weighted avg       1.00      0.98      0.99     71202\n",
            "\n",
            "Decision Tree with SMOTE:\n",
            "              precision    recall  f1-score   support\n",
            "\n",
            "           0       1.00      1.00      1.00     71093\n",
            "           1       0.38      0.77      0.50       109\n",
            "\n",
            "    accuracy                           1.00     71202\n",
            "   macro avg       0.69      0.88      0.75     71202\n",
            "weighted avg       1.00      1.00      1.00     71202\n",
            "\n",
            "Random Forest with SMOTE:\n",
            "              precision    recall  f1-score   support\n",
            "\n",
            "           0       1.00      1.00      1.00     71093\n",
            "           1       0.88      0.82      0.85       109\n",
            "\n",
            "    accuracy                           1.00     71202\n",
            "   macro avg       0.94      0.91      0.92     71202\n",
            "weighted avg       1.00      1.00      1.00     71202\n",
            "\n",
            "Bagging with SMOTE\n",
            "              precision    recall  f1-score   support\n",
            "\n",
            "           0       1.00      1.00      1.00     71093\n",
            "           1       0.68      0.81      0.74       109\n",
            "\n",
            "    accuracy                           1.00     71202\n",
            "   macro avg       0.84      0.90      0.87     71202\n",
            "weighted avg       1.00      1.00      1.00     71202\n",
            "\n"
          ]
        }
      ]
    },
    {
      "cell_type": "code",
      "source": [
        ""
      ],
      "metadata": {
        "id": "oJcCscL_jGYI"
      },
      "execution_count": null,
      "outputs": []
    }
  ]
}